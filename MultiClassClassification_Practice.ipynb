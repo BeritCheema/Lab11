{
  "nbformat": 4,
  "nbformat_minor": 0,
  "metadata": {
    "colab": {
      "private_outputs": true,
      "provenance": [],
      "gpuType": "T4",
      "authorship_tag": "ABX9TyMnJRoBrhyNn/3aRT4RP6Uk"
    },
    "kernelspec": {
      "name": "python3",
      "display_name": "Python 3"
    },
    "language_info": {
      "name": "python"
    },
    "accelerator": "GPU"
  },
  "cells": [
    {
      "cell_type": "code",
      "execution_count": null,
      "metadata": {
        "id": "TUas0ANvEGEX"
      },
      "outputs": [],
      "source": [
        "import torch\n",
        "import matplotlib.pyplot as plt\n",
        "import numpy as np\n",
        "from sklearn.datasets import make_blobs\n",
        "from sklearn.model_selection import train_test_split\n",
        "from torch.utils.data import Dataset, DataLoader\n",
        "\n",
        "num_classes = 4\n",
        "num_features = 2\n",
        "random_seed = 42\n",
        "\n",
        "xBlob, yBlob = make_blobs(n_samples=1000, centers=num_classes, n_features=num_features, random_state=random_seed, cluster_std=1.5)\n",
        "xBlob = torch.from_numpy(xBlob).type(torch.float32)\n",
        "yBlob = torch.from_numpy(yBlob).type(torch.long)\n",
        "\n",
        "X_train, X_test, y_train, y_test = train_test_split(xBlob, yBlob, test_size=0.2, random_state=random_seed)\n",
        "\n",
        "plt.figure(figsize=(10,7))\n",
        "plt.scatter(xBlob[:,0], xBlob[:,1], c=yBlob, cmap='rainbow')\n",
        "plt.show()"
      ]
    },
    {
      "cell_type": "code",
      "source": [
        "device = \"cuda\" if torch.cuda.is_available() else \"cpu\"\n",
        "device"
      ],
      "metadata": {
        "id": "XE1n-FMKH7qI"
      },
      "execution_count": null,
      "outputs": []
    },
    {
      "cell_type": "code",
      "source": [
        "from torch import nn as nn\n",
        "class multiclassmodel(nn.Module):\n",
        "    def __init__(self, input_features, output_features, hidden_units=8):\n",
        "        super().__init__()\n",
        "        self.linear = nn.Sequential(\n",
        "            nn.Linear(in_features=input_features, out_features=hidden_units),\n",
        "            nn.ReLU(),\n",
        "            nn.Linear(in_features=hidden_units, out_features=hidden_units),\n",
        "            nn.ReLU(),\n",
        "            nn.Linear(in_features=hidden_units, out_features=output_features)\n",
        "        )\n",
        "\n",
        "    def forward(self, x):\n",
        "        return self.linear(x)\n",
        "\n",
        "model = multiclassmodel(input_features=2,output_features=4)\n",
        "model.to(device)\n",
        "model"
      ],
      "metadata": {
        "id": "iFN5dRKsFr_g"
      },
      "execution_count": null,
      "outputs": []
    },
    {
      "cell_type": "code",
      "source": [
        "lossFn = nn.CrossEntropyLoss()\n",
        "optimizer = torch.optim.SGD(model.parameters(), lr=0.1)"
      ],
      "metadata": {
        "id": "1oVKweG8H2ID"
      },
      "execution_count": null,
      "outputs": []
    },
    {
      "cell_type": "code",
      "source": [
        "def acc(true, pred):\n",
        "  count = 0.0\n",
        "  for i in range(pred.size(dim=0)):\n",
        "      if pred[i] == true[i]:\n",
        "          count+=1\n",
        "  return count/pred.size(dim=0)\n"
      ],
      "metadata": {
        "id": "ixC1PwBPTMMe"
      },
      "execution_count": null,
      "outputs": []
    },
    {
      "cell_type": "code",
      "source": [
        "epochs = 100\n",
        "X_train, X_test, y_train, y_test = X_train.to(device), X_test.to(device), y_train.to(device), y_test.to(device)\n",
        "\n",
        "for epoch in range(epochs):\n",
        "    model.train()\n",
        "    logits = model(X_train)\n",
        "    ypred = torch.softmax(logits, dim=1).argmax(dim=1)\n",
        "    loss = lossFn(logits, y_train)\n",
        "\n",
        "    optimizer.zero_grad()\n",
        "    loss.backward()\n",
        "    optimizer.step()\n",
        "    model.eval()\n",
        "    with torch.inference_mode():\n",
        "      tlogits = model(X_test)\n",
        "      tpred = torch.softmax(tlogits, dim=1).argmax(dim=1)\n",
        "      Tloss = lossFn(tlogits, y_test)\n",
        "      tacc = acc(y_test, tpred)\n",
        "      if epoch % 10 == 0:\n",
        "        print(f\"{epoch} ____ {loss} ____ {Tloss} ,,,, {tacc}\")"
      ],
      "metadata": {
        "id": "cLVEmHh3SX4s"
      },
      "execution_count": null,
      "outputs": []
    },
    {
      "cell_type": "code",
      "source": [
        "import numpy as np\n",
        "import matplotlib.pyplot as plt\n",
        "import torch\n",
        "\n",
        "def plot_decision_boundary(model, X, y, device, title='Decision Boundary'):\n",
        "    # Set the limits for the grid\n",
        "    x_min, x_max = X[:, 0].min() - 1, X[:, 0].max() + 1\n",
        "    y_min, y_max = X[:, 1].min() - 1, X[:, 1].max() + 1\n",
        "    xx, yy = np.meshgrid(np.arange(x_min, x_max, 0.01), np.arange(y_min, y_max, 0.01))\n",
        "\n",
        "    # Flatten the grid to pass through the model\n",
        "    grid = torch.tensor(np.c_[xx.ravel(), yy.ravel()], dtype=torch.float32).to(device)\n",
        "\n",
        "    # Put the model in evaluation mode and get predictions\n",
        "    model.eval()\n",
        "    with torch.no_grad():\n",
        "        logits = model(grid)\n",
        "        probs = torch.softmax(logits, dim=1)\n",
        "        preds = torch.argmax(probs, dim=1).cpu().numpy()\n",
        "\n",
        "    # Reshape the predictions to match the grid shape\n",
        "    Z = preds.reshape(xx.shape)\n",
        "\n",
        "    # Create the plot\n",
        "    plt.figure(figsize=(10, 6))\n",
        "    plt.contourf(xx, yy, Z, alpha=0.3, cmap='viridis')\n",
        "    plt.scatter(X[:, 0], X[:, 1], c=y, s=40, cmap='viridis', edgecolor='k')\n",
        "    plt.title(title)\n",
        "    plt.xlabel('Feature 1')\n",
        "    plt.ylabel('Feature 2')\n",
        "    plt.colorbar(label='Class')\n",
        "    plt.show()\n",
        "\n",
        "# Example usage:\n",
        "# Assuming X_test and y_test are already defined and moved to CPU for plotting\n",
        "X_test_np = X_train.cpu().numpy()\n",
        "y_test_np = y_train.cpu().numpy()\n",
        "\n",
        "# Call the function with your model and test data\n",
        "plot_decision_boundary(model, X_test_np, y_test_np, device, title='Decision Boundary on Test Data')\n"
      ],
      "metadata": {
        "id": "K7BI1WoBWEjl"
      },
      "execution_count": null,
      "outputs": []
    },
    {
      "cell_type": "code",
      "source": [
        "X_test_np = X_test.cpu().numpy()\n",
        "y_test_np = y_test.cpu().numpy()\n",
        "\n",
        "plot_decision_boundary(model, X_test_np, y_test_np, device, title='Decision Boundary on Test Data')"
      ],
      "metadata": {
        "id": "YqIRn1s3WPA6"
      },
      "execution_count": null,
      "outputs": []
    }
  ]
}